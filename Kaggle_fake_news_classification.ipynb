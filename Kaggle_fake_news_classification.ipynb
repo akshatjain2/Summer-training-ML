{
  "metadata": {
    "kernelspec": {
      "language": "python",
      "display_name": "Python 3",
      "name": "python3"
    },
    "language_info": {
      "name": "python",
      "version": "3.7.12",
      "mimetype": "text/x-python",
      "codemirror_mode": {
        "name": "ipython",
        "version": 3
      },
      "pygments_lexer": "ipython3",
      "nbconvert_exporter": "python",
      "file_extension": ".py"
    },
    "colab": {
      "name": "Kaggle fake-news-classification.ipynb",
      "provenance": [],
      "include_colab_link": true
    },
    "accelerator": "GPU",
    "gpuClass": "standard"
  },
  "nbformat_minor": 0,
  "nbformat": 4,
  "cells": [
    {
      "cell_type": "markdown",
      "metadata": {
        "id": "view-in-github",
        "colab_type": "text"
      },
      "source": [
        "<a href=\"https://colab.research.google.com/github/akshatjain2/Summer-training-ML/blob/main/Kaggle_fake_news_classification.ipynb\" target=\"_parent\"><img src=\"https://colab.research.google.com/assets/colab-badge.svg\" alt=\"Open In Colab\"/></a>"
      ]
    },
    {
      "cell_type": "code",
      "source": [
        "# This Python 3 environment comes with many helpful analytics libraries installed\n",
        "# It is defined by the kaggle/python Docker image: https://github.com/kaggle/docker-python\n",
        "# For example, here's several helpful packages to load\n",
        "\n",
        "import numpy as np # linear algebra\n",
        "import pandas as pd # data processing, CSV file I/O (e.g. pd.read_csv)\n",
        "\n",
        "# Input data files are available in the read-only \"../input/\" directory\n",
        "# For example, running this (by clicking run or pressing Shift+Enter) will list all files under the input directory\n",
        "\n",
        "import os\n",
        "for dirname, _, filenames in os.walk('/kaggle/input'):\n",
        "    for filename in filenames:\n",
        "        print(os.path.join(dirname, filename))\n",
        "\n",
        "# You can write up to 20GB to the current directory (/kaggle/working/) that gets preserved as output when you create a version using \"Save & Run All\" \n",
        "# You can also write temporary files to /kaggle/temp/, but they won't be saved outside of the current session"
      ],
      "metadata": {
        "_uuid": "8f2839f25d086af736a60e9eeb907d3b93b6e0e5",
        "_cell_guid": "b1076dfc-b9ad-4769-8c92-a6c4dae69d19",
        "execution": {
          "iopub.status.busy": "2022-06-30T12:33:52.498786Z",
          "iopub.execute_input": "2022-06-30T12:33:52.499215Z",
          "iopub.status.idle": "2022-06-30T12:33:52.508249Z",
          "shell.execute_reply.started": "2022-06-30T12:33:52.499183Z",
          "shell.execute_reply": "2022-06-30T12:33:52.507161Z"
        },
        "trusted": true,
        "id": "SdUYsOe3w62j"
      },
      "execution_count": null,
      "outputs": []
    },
    {
      "cell_type": "code",
      "source": [
        "import pandas as pd"
      ],
      "metadata": {
        "execution": {
          "iopub.status.busy": "2022-06-30T12:33:52.609761Z",
          "iopub.execute_input": "2022-06-30T12:33:52.611095Z",
          "iopub.status.idle": "2022-06-30T12:33:52.615377Z",
          "shell.execute_reply.started": "2022-06-30T12:33:52.611039Z",
          "shell.execute_reply": "2022-06-30T12:33:52.614462Z"
        },
        "trusted": true,
        "id": "ni0p0rQ2w62n"
      },
      "execution_count": null,
      "outputs": []
    },
    {
      "cell_type": "code",
      "source": [
        "df=pd.read_csv('../input/fake-news/train.csv')"
      ],
      "metadata": {
        "execution": {
          "iopub.status.busy": "2022-06-30T12:33:52.714113Z",
          "iopub.execute_input": "2022-06-30T12:33:52.715015Z",
          "iopub.status.idle": "2022-06-30T12:33:54.200242Z",
          "shell.execute_reply.started": "2022-06-30T12:33:52.714958Z",
          "shell.execute_reply": "2022-06-30T12:33:54.199056Z"
        },
        "trusted": true,
        "id": "2SLoQ1Wmw62o",
        "outputId": "08c00352-97a1-4ada-e0b6-34258bf85840",
        "colab": {
          "base_uri": "https://localhost:8080/",
          "height": 311
        }
      },
      "execution_count": null,
      "outputs": [
        {
          "output_type": "error",
          "ename": "FileNotFoundError",
          "evalue": "ignored",
          "traceback": [
            "\u001b[0;31m---------------------------------------------------------------------------\u001b[0m",
            "\u001b[0;31mFileNotFoundError\u001b[0m                         Traceback (most recent call last)",
            "\u001b[0;32m<ipython-input-3-14d9eb4a8365>\u001b[0m in \u001b[0;36m<module>\u001b[0;34m()\u001b[0m\n\u001b[0;32m----> 1\u001b[0;31m \u001b[0mdf\u001b[0m\u001b[0;34m=\u001b[0m\u001b[0mpd\u001b[0m\u001b[0;34m.\u001b[0m\u001b[0mread_csv\u001b[0m\u001b[0;34m(\u001b[0m\u001b[0;34m'../input/fake-news/train.csv'\u001b[0m\u001b[0;34m)\u001b[0m\u001b[0;34m\u001b[0m\u001b[0;34m\u001b[0m\u001b[0m\n\u001b[0m",
            "\u001b[0;32m/usr/local/lib/python3.7/dist-packages/pandas/util/_decorators.py\u001b[0m in \u001b[0;36mwrapper\u001b[0;34m(*args, **kwargs)\u001b[0m\n\u001b[1;32m    309\u001b[0m                     \u001b[0mstacklevel\u001b[0m\u001b[0;34m=\u001b[0m\u001b[0mstacklevel\u001b[0m\u001b[0;34m,\u001b[0m\u001b[0;34m\u001b[0m\u001b[0;34m\u001b[0m\u001b[0m\n\u001b[1;32m    310\u001b[0m                 )\n\u001b[0;32m--> 311\u001b[0;31m             \u001b[0;32mreturn\u001b[0m \u001b[0mfunc\u001b[0m\u001b[0;34m(\u001b[0m\u001b[0;34m*\u001b[0m\u001b[0margs\u001b[0m\u001b[0;34m,\u001b[0m \u001b[0;34m**\u001b[0m\u001b[0mkwargs\u001b[0m\u001b[0;34m)\u001b[0m\u001b[0;34m\u001b[0m\u001b[0;34m\u001b[0m\u001b[0m\n\u001b[0m\u001b[1;32m    312\u001b[0m \u001b[0;34m\u001b[0m\u001b[0m\n\u001b[1;32m    313\u001b[0m         \u001b[0;32mreturn\u001b[0m \u001b[0mwrapper\u001b[0m\u001b[0;34m\u001b[0m\u001b[0;34m\u001b[0m\u001b[0m\n",
            "\u001b[0;32m/usr/local/lib/python3.7/dist-packages/pandas/io/parsers/readers.py\u001b[0m in \u001b[0;36mread_csv\u001b[0;34m(filepath_or_buffer, sep, delimiter, header, names, index_col, usecols, squeeze, prefix, mangle_dupe_cols, dtype, engine, converters, true_values, false_values, skipinitialspace, skiprows, skipfooter, nrows, na_values, keep_default_na, na_filter, verbose, skip_blank_lines, parse_dates, infer_datetime_format, keep_date_col, date_parser, dayfirst, cache_dates, iterator, chunksize, compression, thousands, decimal, lineterminator, quotechar, quoting, doublequote, escapechar, comment, encoding, encoding_errors, dialect, error_bad_lines, warn_bad_lines, on_bad_lines, delim_whitespace, low_memory, memory_map, float_precision, storage_options)\u001b[0m\n\u001b[1;32m    584\u001b[0m     \u001b[0mkwds\u001b[0m\u001b[0;34m.\u001b[0m\u001b[0mupdate\u001b[0m\u001b[0;34m(\u001b[0m\u001b[0mkwds_defaults\u001b[0m\u001b[0;34m)\u001b[0m\u001b[0;34m\u001b[0m\u001b[0;34m\u001b[0m\u001b[0m\n\u001b[1;32m    585\u001b[0m \u001b[0;34m\u001b[0m\u001b[0m\n\u001b[0;32m--> 586\u001b[0;31m     \u001b[0;32mreturn\u001b[0m \u001b[0m_read\u001b[0m\u001b[0;34m(\u001b[0m\u001b[0mfilepath_or_buffer\u001b[0m\u001b[0;34m,\u001b[0m \u001b[0mkwds\u001b[0m\u001b[0;34m)\u001b[0m\u001b[0;34m\u001b[0m\u001b[0;34m\u001b[0m\u001b[0m\n\u001b[0m\u001b[1;32m    587\u001b[0m \u001b[0;34m\u001b[0m\u001b[0m\n\u001b[1;32m    588\u001b[0m \u001b[0;34m\u001b[0m\u001b[0m\n",
            "\u001b[0;32m/usr/local/lib/python3.7/dist-packages/pandas/io/parsers/readers.py\u001b[0m in \u001b[0;36m_read\u001b[0;34m(filepath_or_buffer, kwds)\u001b[0m\n\u001b[1;32m    480\u001b[0m \u001b[0;34m\u001b[0m\u001b[0m\n\u001b[1;32m    481\u001b[0m     \u001b[0;31m# Create the parser.\u001b[0m\u001b[0;34m\u001b[0m\u001b[0;34m\u001b[0m\u001b[0;34m\u001b[0m\u001b[0m\n\u001b[0;32m--> 482\u001b[0;31m     \u001b[0mparser\u001b[0m \u001b[0;34m=\u001b[0m \u001b[0mTextFileReader\u001b[0m\u001b[0;34m(\u001b[0m\u001b[0mfilepath_or_buffer\u001b[0m\u001b[0;34m,\u001b[0m \u001b[0;34m**\u001b[0m\u001b[0mkwds\u001b[0m\u001b[0;34m)\u001b[0m\u001b[0;34m\u001b[0m\u001b[0;34m\u001b[0m\u001b[0m\n\u001b[0m\u001b[1;32m    483\u001b[0m \u001b[0;34m\u001b[0m\u001b[0m\n\u001b[1;32m    484\u001b[0m     \u001b[0;32mif\u001b[0m \u001b[0mchunksize\u001b[0m \u001b[0;32mor\u001b[0m \u001b[0miterator\u001b[0m\u001b[0;34m:\u001b[0m\u001b[0;34m\u001b[0m\u001b[0;34m\u001b[0m\u001b[0m\n",
            "\u001b[0;32m/usr/local/lib/python3.7/dist-packages/pandas/io/parsers/readers.py\u001b[0m in \u001b[0;36m__init__\u001b[0;34m(self, f, engine, **kwds)\u001b[0m\n\u001b[1;32m    809\u001b[0m             \u001b[0mself\u001b[0m\u001b[0;34m.\u001b[0m\u001b[0moptions\u001b[0m\u001b[0;34m[\u001b[0m\u001b[0;34m\"has_index_names\"\u001b[0m\u001b[0;34m]\u001b[0m \u001b[0;34m=\u001b[0m \u001b[0mkwds\u001b[0m\u001b[0;34m[\u001b[0m\u001b[0;34m\"has_index_names\"\u001b[0m\u001b[0;34m]\u001b[0m\u001b[0;34m\u001b[0m\u001b[0;34m\u001b[0m\u001b[0m\n\u001b[1;32m    810\u001b[0m \u001b[0;34m\u001b[0m\u001b[0m\n\u001b[0;32m--> 811\u001b[0;31m         \u001b[0mself\u001b[0m\u001b[0;34m.\u001b[0m\u001b[0m_engine\u001b[0m \u001b[0;34m=\u001b[0m \u001b[0mself\u001b[0m\u001b[0;34m.\u001b[0m\u001b[0m_make_engine\u001b[0m\u001b[0;34m(\u001b[0m\u001b[0mself\u001b[0m\u001b[0;34m.\u001b[0m\u001b[0mengine\u001b[0m\u001b[0;34m)\u001b[0m\u001b[0;34m\u001b[0m\u001b[0;34m\u001b[0m\u001b[0m\n\u001b[0m\u001b[1;32m    812\u001b[0m \u001b[0;34m\u001b[0m\u001b[0m\n\u001b[1;32m    813\u001b[0m     \u001b[0;32mdef\u001b[0m \u001b[0mclose\u001b[0m\u001b[0;34m(\u001b[0m\u001b[0mself\u001b[0m\u001b[0;34m)\u001b[0m\u001b[0;34m:\u001b[0m\u001b[0;34m\u001b[0m\u001b[0;34m\u001b[0m\u001b[0m\n",
            "\u001b[0;32m/usr/local/lib/python3.7/dist-packages/pandas/io/parsers/readers.py\u001b[0m in \u001b[0;36m_make_engine\u001b[0;34m(self, engine)\u001b[0m\n\u001b[1;32m   1038\u001b[0m             )\n\u001b[1;32m   1039\u001b[0m         \u001b[0;31m# error: Too many arguments for \"ParserBase\"\u001b[0m\u001b[0;34m\u001b[0m\u001b[0;34m\u001b[0m\u001b[0;34m\u001b[0m\u001b[0m\n\u001b[0;32m-> 1040\u001b[0;31m         \u001b[0;32mreturn\u001b[0m \u001b[0mmapping\u001b[0m\u001b[0;34m[\u001b[0m\u001b[0mengine\u001b[0m\u001b[0;34m]\u001b[0m\u001b[0;34m(\u001b[0m\u001b[0mself\u001b[0m\u001b[0;34m.\u001b[0m\u001b[0mf\u001b[0m\u001b[0;34m,\u001b[0m \u001b[0;34m**\u001b[0m\u001b[0mself\u001b[0m\u001b[0;34m.\u001b[0m\u001b[0moptions\u001b[0m\u001b[0;34m)\u001b[0m  \u001b[0;31m# type: ignore[call-arg]\u001b[0m\u001b[0;34m\u001b[0m\u001b[0;34m\u001b[0m\u001b[0m\n\u001b[0m\u001b[1;32m   1041\u001b[0m \u001b[0;34m\u001b[0m\u001b[0m\n\u001b[1;32m   1042\u001b[0m     \u001b[0;32mdef\u001b[0m \u001b[0m_failover_to_python\u001b[0m\u001b[0;34m(\u001b[0m\u001b[0mself\u001b[0m\u001b[0;34m)\u001b[0m\u001b[0;34m:\u001b[0m\u001b[0;34m\u001b[0m\u001b[0;34m\u001b[0m\u001b[0m\n",
            "\u001b[0;32m/usr/local/lib/python3.7/dist-packages/pandas/io/parsers/c_parser_wrapper.py\u001b[0m in \u001b[0;36m__init__\u001b[0;34m(self, src, **kwds)\u001b[0m\n\u001b[1;32m     49\u001b[0m \u001b[0;34m\u001b[0m\u001b[0m\n\u001b[1;32m     50\u001b[0m         \u001b[0;31m# open handles\u001b[0m\u001b[0;34m\u001b[0m\u001b[0;34m\u001b[0m\u001b[0;34m\u001b[0m\u001b[0m\n\u001b[0;32m---> 51\u001b[0;31m         \u001b[0mself\u001b[0m\u001b[0;34m.\u001b[0m\u001b[0m_open_handles\u001b[0m\u001b[0;34m(\u001b[0m\u001b[0msrc\u001b[0m\u001b[0;34m,\u001b[0m \u001b[0mkwds\u001b[0m\u001b[0;34m)\u001b[0m\u001b[0;34m\u001b[0m\u001b[0;34m\u001b[0m\u001b[0m\n\u001b[0m\u001b[1;32m     52\u001b[0m         \u001b[0;32massert\u001b[0m \u001b[0mself\u001b[0m\u001b[0;34m.\u001b[0m\u001b[0mhandles\u001b[0m \u001b[0;32mis\u001b[0m \u001b[0;32mnot\u001b[0m \u001b[0;32mNone\u001b[0m\u001b[0;34m\u001b[0m\u001b[0;34m\u001b[0m\u001b[0m\n\u001b[1;32m     53\u001b[0m \u001b[0;34m\u001b[0m\u001b[0m\n",
            "\u001b[0;32m/usr/local/lib/python3.7/dist-packages/pandas/io/parsers/base_parser.py\u001b[0m in \u001b[0;36m_open_handles\u001b[0;34m(self, src, kwds)\u001b[0m\n\u001b[1;32m    227\u001b[0m             \u001b[0mmemory_map\u001b[0m\u001b[0;34m=\u001b[0m\u001b[0mkwds\u001b[0m\u001b[0;34m.\u001b[0m\u001b[0mget\u001b[0m\u001b[0;34m(\u001b[0m\u001b[0;34m\"memory_map\"\u001b[0m\u001b[0;34m,\u001b[0m \u001b[0;32mFalse\u001b[0m\u001b[0;34m)\u001b[0m\u001b[0;34m,\u001b[0m\u001b[0;34m\u001b[0m\u001b[0;34m\u001b[0m\u001b[0m\n\u001b[1;32m    228\u001b[0m             \u001b[0mstorage_options\u001b[0m\u001b[0;34m=\u001b[0m\u001b[0mkwds\u001b[0m\u001b[0;34m.\u001b[0m\u001b[0mget\u001b[0m\u001b[0;34m(\u001b[0m\u001b[0;34m\"storage_options\"\u001b[0m\u001b[0;34m,\u001b[0m \u001b[0;32mNone\u001b[0m\u001b[0;34m)\u001b[0m\u001b[0;34m,\u001b[0m\u001b[0;34m\u001b[0m\u001b[0;34m\u001b[0m\u001b[0m\n\u001b[0;32m--> 229\u001b[0;31m             \u001b[0merrors\u001b[0m\u001b[0;34m=\u001b[0m\u001b[0mkwds\u001b[0m\u001b[0;34m.\u001b[0m\u001b[0mget\u001b[0m\u001b[0;34m(\u001b[0m\u001b[0;34m\"encoding_errors\"\u001b[0m\u001b[0;34m,\u001b[0m \u001b[0;34m\"strict\"\u001b[0m\u001b[0;34m)\u001b[0m\u001b[0;34m,\u001b[0m\u001b[0;34m\u001b[0m\u001b[0;34m\u001b[0m\u001b[0m\n\u001b[0m\u001b[1;32m    230\u001b[0m         )\n\u001b[1;32m    231\u001b[0m \u001b[0;34m\u001b[0m\u001b[0m\n",
            "\u001b[0;32m/usr/local/lib/python3.7/dist-packages/pandas/io/common.py\u001b[0m in \u001b[0;36mget_handle\u001b[0;34m(path_or_buf, mode, encoding, compression, memory_map, is_text, errors, storage_options)\u001b[0m\n\u001b[1;32m    705\u001b[0m                 \u001b[0mencoding\u001b[0m\u001b[0;34m=\u001b[0m\u001b[0mioargs\u001b[0m\u001b[0;34m.\u001b[0m\u001b[0mencoding\u001b[0m\u001b[0;34m,\u001b[0m\u001b[0;34m\u001b[0m\u001b[0;34m\u001b[0m\u001b[0m\n\u001b[1;32m    706\u001b[0m                 \u001b[0merrors\u001b[0m\u001b[0;34m=\u001b[0m\u001b[0merrors\u001b[0m\u001b[0;34m,\u001b[0m\u001b[0;34m\u001b[0m\u001b[0;34m\u001b[0m\u001b[0m\n\u001b[0;32m--> 707\u001b[0;31m                 \u001b[0mnewline\u001b[0m\u001b[0;34m=\u001b[0m\u001b[0;34m\"\"\u001b[0m\u001b[0;34m,\u001b[0m\u001b[0;34m\u001b[0m\u001b[0;34m\u001b[0m\u001b[0m\n\u001b[0m\u001b[1;32m    708\u001b[0m             )\n\u001b[1;32m    709\u001b[0m         \u001b[0;32melse\u001b[0m\u001b[0;34m:\u001b[0m\u001b[0;34m\u001b[0m\u001b[0;34m\u001b[0m\u001b[0m\n",
            "\u001b[0;31mFileNotFoundError\u001b[0m: [Errno 2] No such file or directory: '../input/fake-news/train.csv'"
          ]
        }
      ]
    },
    {
      "cell_type": "code",
      "source": [
        "df.head()"
      ],
      "metadata": {
        "execution": {
          "iopub.status.busy": "2022-06-30T12:33:54.202603Z",
          "iopub.execute_input": "2022-06-30T12:33:54.203249Z",
          "iopub.status.idle": "2022-06-30T12:33:54.216165Z",
          "shell.execute_reply.started": "2022-06-30T12:33:54.203202Z",
          "shell.execute_reply": "2022-06-30T12:33:54.214910Z"
        },
        "trusted": true,
        "id": "QRWna8pQw62o"
      },
      "execution_count": null,
      "outputs": []
    },
    {
      "cell_type": "code",
      "source": [
        "###Drop Nan Values\n",
        "df=df.dropna()\n",
        "\n",
        "df.isnull().sum()"
      ],
      "metadata": {
        "execution": {
          "iopub.status.busy": "2022-06-30T12:33:54.217601Z",
          "iopub.execute_input": "2022-06-30T12:33:54.218043Z",
          "iopub.status.idle": "2022-06-30T12:33:54.248632Z",
          "shell.execute_reply.started": "2022-06-30T12:33:54.218004Z",
          "shell.execute_reply": "2022-06-30T12:33:54.247812Z"
        },
        "trusted": true,
        "id": "2U-Icjxkw62p"
      },
      "execution_count": null,
      "outputs": []
    },
    {
      "cell_type": "code",
      "source": [
        "## Get the Independent Features\n",
        "\n",
        "X=df.drop('label',axis=1)"
      ],
      "metadata": {
        "execution": {
          "iopub.status.busy": "2022-06-30T12:33:54.250501Z",
          "iopub.execute_input": "2022-06-30T12:33:54.251074Z",
          "iopub.status.idle": "2022-06-30T12:33:54.258778Z",
          "shell.execute_reply.started": "2022-06-30T12:33:54.251041Z",
          "shell.execute_reply": "2022-06-30T12:33:54.257910Z"
        },
        "trusted": true,
        "id": "E_2o9EwMw62p"
      },
      "execution_count": null,
      "outputs": []
    },
    {
      "cell_type": "code",
      "source": [
        "## Get the Dependent features\n",
        "y=df['label']"
      ],
      "metadata": {
        "execution": {
          "iopub.status.busy": "2022-06-30T12:33:54.260188Z",
          "iopub.execute_input": "2022-06-30T12:33:54.260765Z",
          "iopub.status.idle": "2022-06-30T12:33:54.268630Z",
          "shell.execute_reply.started": "2022-06-30T12:33:54.260717Z",
          "shell.execute_reply": "2022-06-30T12:33:54.267537Z"
        },
        "trusted": true,
        "id": "Op5KKtHhw62q"
      },
      "execution_count": null,
      "outputs": []
    },
    {
      "cell_type": "code",
      "source": [
        "X.shape"
      ],
      "metadata": {
        "execution": {
          "iopub.status.busy": "2022-06-30T12:33:54.270546Z",
          "iopub.execute_input": "2022-06-30T12:33:54.271293Z",
          "iopub.status.idle": "2022-06-30T12:33:54.285635Z",
          "shell.execute_reply.started": "2022-06-30T12:33:54.271245Z",
          "shell.execute_reply": "2022-06-30T12:33:54.284839Z"
        },
        "trusted": true,
        "id": "S1VDAjTHw62q"
      },
      "execution_count": null,
      "outputs": []
    },
    {
      "cell_type": "code",
      "source": [
        "y.shape"
      ],
      "metadata": {
        "execution": {
          "iopub.status.busy": "2022-06-30T12:33:54.287118Z",
          "iopub.execute_input": "2022-06-30T12:33:54.287639Z",
          "iopub.status.idle": "2022-06-30T12:33:54.299076Z",
          "shell.execute_reply.started": "2022-06-30T12:33:54.287607Z",
          "shell.execute_reply": "2022-06-30T12:33:54.297971Z"
        },
        "trusted": true,
        "id": "w2ZJ2-Smw62q"
      },
      "execution_count": null,
      "outputs": []
    },
    {
      "cell_type": "code",
      "source": [
        "import tensorflow as tf"
      ],
      "metadata": {
        "execution": {
          "iopub.status.busy": "2022-06-30T12:33:54.300615Z",
          "iopub.execute_input": "2022-06-30T12:33:54.301505Z",
          "iopub.status.idle": "2022-06-30T12:33:54.308783Z",
          "shell.execute_reply.started": "2022-06-30T12:33:54.301470Z",
          "shell.execute_reply": "2022-06-30T12:33:54.307937Z"
        },
        "trusted": true,
        "id": "lK_rPxM6w62r"
      },
      "execution_count": null,
      "outputs": []
    },
    {
      "cell_type": "code",
      "source": [
        "tf.__version__"
      ],
      "metadata": {
        "execution": {
          "iopub.status.busy": "2022-06-30T12:33:54.309990Z",
          "iopub.execute_input": "2022-06-30T12:33:54.310433Z",
          "iopub.status.idle": "2022-06-30T12:33:54.322137Z",
          "shell.execute_reply.started": "2022-06-30T12:33:54.310407Z",
          "shell.execute_reply": "2022-06-30T12:33:54.321355Z"
        },
        "trusted": true,
        "id": "0vrog6Ktw62r"
      },
      "execution_count": null,
      "outputs": []
    },
    {
      "cell_type": "code",
      "source": [
        "from tensorflow.keras.layers import Embedding\n",
        "from tensorflow.keras.preprocessing.sequence import pad_sequences\n",
        "from tensorflow.keras.models import Sequential\n",
        "from tensorflow.keras.preprocessing.text import one_hot\n",
        "from tensorflow.keras.layers import LSTM\n",
        "from tensorflow.keras.layers import Dense"
      ],
      "metadata": {
        "execution": {
          "iopub.status.busy": "2022-06-30T12:33:54.324966Z",
          "iopub.execute_input": "2022-06-30T12:33:54.325473Z",
          "iopub.status.idle": "2022-06-30T12:33:54.332799Z",
          "shell.execute_reply.started": "2022-06-30T12:33:54.325441Z",
          "shell.execute_reply": "2022-06-30T12:33:54.331876Z"
        },
        "trusted": true,
        "id": "yglvh543w62s"
      },
      "execution_count": null,
      "outputs": []
    },
    {
      "cell_type": "code",
      "source": [
        "### Vocabulary size\n",
        "voc_size=5000"
      ],
      "metadata": {
        "execution": {
          "iopub.status.busy": "2022-06-30T12:33:54.333974Z",
          "iopub.execute_input": "2022-06-30T12:33:54.334519Z",
          "iopub.status.idle": "2022-06-30T12:33:54.344937Z",
          "shell.execute_reply.started": "2022-06-30T12:33:54.334489Z",
          "shell.execute_reply": "2022-06-30T12:33:54.344061Z"
        },
        "trusted": true,
        "id": "Iep_N5Vfw62s"
      },
      "execution_count": null,
      "outputs": []
    },
    {
      "cell_type": "code",
      "source": [
        "messages=X.copy()"
      ],
      "metadata": {
        "execution": {
          "iopub.status.busy": "2022-06-30T12:33:54.346128Z",
          "iopub.execute_input": "2022-06-30T12:33:54.347030Z",
          "iopub.status.idle": "2022-06-30T12:33:54.358709Z",
          "shell.execute_reply.started": "2022-06-30T12:33:54.346988Z",
          "shell.execute_reply": "2022-06-30T12:33:54.357582Z"
        },
        "trusted": true,
        "id": "Us8at6P1w62s"
      },
      "execution_count": null,
      "outputs": []
    },
    {
      "cell_type": "code",
      "source": [
        "messages['title'][1]"
      ],
      "metadata": {
        "execution": {
          "iopub.status.busy": "2022-06-30T12:33:54.360296Z",
          "iopub.execute_input": "2022-06-30T12:33:54.360711Z",
          "iopub.status.idle": "2022-06-30T12:33:54.370673Z",
          "shell.execute_reply.started": "2022-06-30T12:33:54.360679Z",
          "shell.execute_reply": "2022-06-30T12:33:54.369508Z"
        },
        "trusted": true,
        "id": "ZDRZYr74w62s"
      },
      "execution_count": null,
      "outputs": []
    },
    {
      "cell_type": "code",
      "source": [
        "messages.reset_index(inplace=True)"
      ],
      "metadata": {
        "execution": {
          "iopub.status.busy": "2022-06-30T12:33:54.372224Z",
          "iopub.execute_input": "2022-06-30T12:33:54.373177Z",
          "iopub.status.idle": "2022-06-30T12:33:54.379535Z",
          "shell.execute_reply.started": "2022-06-30T12:33:54.373145Z",
          "shell.execute_reply": "2022-06-30T12:33:54.378696Z"
        },
        "trusted": true,
        "id": "1ytNHrnPw62t"
      },
      "execution_count": null,
      "outputs": []
    },
    {
      "cell_type": "code",
      "source": [
        "import nltk\n",
        "import re\n",
        "from nltk.corpus import stopwords\n",
        "#important libraries for NLP"
      ],
      "metadata": {
        "execution": {
          "iopub.status.busy": "2022-06-30T12:33:54.380876Z",
          "iopub.execute_input": "2022-06-30T12:33:54.381623Z",
          "iopub.status.idle": "2022-06-30T12:33:54.392972Z",
          "shell.execute_reply.started": "2022-06-30T12:33:54.381593Z",
          "shell.execute_reply": "2022-06-30T12:33:54.391552Z"
        },
        "trusted": true,
        "id": "cKlpONWrw62t"
      },
      "execution_count": null,
      "outputs": []
    },
    {
      "cell_type": "code",
      "source": [
        "nltk.download('stopwords')\n"
      ],
      "metadata": {
        "execution": {
          "iopub.status.busy": "2022-06-30T12:33:54.394596Z",
          "iopub.execute_input": "2022-06-30T12:33:54.395360Z",
          "iopub.status.idle": "2022-06-30T12:33:54.406693Z",
          "shell.execute_reply.started": "2022-06-30T12:33:54.395313Z",
          "shell.execute_reply": "2022-06-30T12:33:54.405548Z"
        },
        "trusted": true,
        "id": "z3S970Shw62t"
      },
      "execution_count": null,
      "outputs": []
    },
    {
      "cell_type": "code",
      "source": [
        "len(messages)"
      ],
      "metadata": {
        "execution": {
          "iopub.status.busy": "2022-06-30T12:33:54.408372Z",
          "iopub.execute_input": "2022-06-30T12:33:54.409053Z",
          "iopub.status.idle": "2022-06-30T12:33:54.419292Z",
          "shell.execute_reply.started": "2022-06-30T12:33:54.409014Z",
          "shell.execute_reply": "2022-06-30T12:33:54.418437Z"
        },
        "trusted": true,
        "id": "omAQXON8w62t"
      },
      "execution_count": null,
      "outputs": []
    },
    {
      "cell_type": "code",
      "source": [
        "### Dataset Preprocessing\n",
        "from nltk.stem.porter import PorterStemmer\n",
        "ps = PorterStemmer()\n",
        "corpus = []\n",
        "for i in range(0, len(messages)):\n",
        "    print(i)\n",
        "    review = re.sub('[^a-zA-Z]', ' ', messages['title'][i])\n",
        "    review = review.lower()\n",
        "    review = review.split() #tokenization\n",
        "    \n",
        "    review = [ps.stem(word) for word in review if not word in stopwords.words('english')]\n",
        "    review = ' '.join(review)\n",
        "    corpus.append(review)\n",
        "\n",
        "    \n",
        "    "
      ],
      "metadata": {
        "execution": {
          "iopub.status.busy": "2022-06-30T12:33:54.420563Z",
          "iopub.execute_input": "2022-06-30T12:33:54.421507Z",
          "iopub.status.idle": "2022-06-30T12:34:28.152974Z",
          "shell.execute_reply.started": "2022-06-30T12:33:54.421473Z",
          "shell.execute_reply": "2022-06-30T12:34:28.151823Z"
        },
        "trusted": true,
        "id": "FyDqZFQdw62u"
      },
      "execution_count": null,
      "outputs": []
    },
    {
      "cell_type": "code",
      "source": [
        "corpus"
      ],
      "metadata": {
        "execution": {
          "iopub.status.busy": "2022-06-30T12:34:28.157086Z",
          "iopub.execute_input": "2022-06-30T12:34:28.157433Z",
          "iopub.status.idle": "2022-06-30T12:34:28.179466Z",
          "shell.execute_reply.started": "2022-06-30T12:34:28.157404Z",
          "shell.execute_reply": "2022-06-30T12:34:28.178549Z"
        },
        "trusted": true,
        "id": "bPmn2zxaw62u"
      },
      "execution_count": null,
      "outputs": []
    },
    {
      "cell_type": "markdown",
      "source": [
        "**Embedding Representation**"
      ],
      "metadata": {
        "id": "RZEKRCNVw62u"
      }
    },
    {
      "cell_type": "code",
      "source": [
        "onehot_repr=[one_hot(words,voc_size)for words in corpus] \n",
        "onehot_repr"
      ],
      "metadata": {
        "execution": {
          "iopub.status.busy": "2022-06-30T12:34:28.181264Z",
          "iopub.execute_input": "2022-06-30T12:34:28.181587Z",
          "iopub.status.idle": "2022-06-30T12:34:28.532587Z",
          "shell.execute_reply.started": "2022-06-30T12:34:28.181558Z",
          "shell.execute_reply": "2022-06-30T12:34:28.531800Z"
        },
        "trusted": true,
        "id": "L49GQJvcw62w"
      },
      "execution_count": null,
      "outputs": []
    },
    {
      "cell_type": "code",
      "source": [
        "\n",
        "sent_length=20\n",
        "embedded_docs=pad_sequences(onehot_repr,padding='pre',maxlen=sent_length)\n",
        "print(embedded_docs)"
      ],
      "metadata": {
        "execution": {
          "iopub.status.busy": "2022-06-30T12:34:28.533559Z",
          "iopub.execute_input": "2022-06-30T12:34:28.534060Z",
          "iopub.status.idle": "2022-06-30T12:34:28.587080Z",
          "shell.execute_reply.started": "2022-06-30T12:34:28.534032Z",
          "shell.execute_reply": "2022-06-30T12:34:28.586015Z"
        },
        "trusted": true,
        "id": "ggoCT3oHw62x"
      },
      "execution_count": null,
      "outputs": []
    },
    {
      "cell_type": "code",
      "source": [
        "embedded_docs[0]"
      ],
      "metadata": {
        "execution": {
          "iopub.status.busy": "2022-06-30T12:34:28.588352Z",
          "iopub.execute_input": "2022-06-30T12:34:28.588794Z",
          "iopub.status.idle": "2022-06-30T12:34:28.595060Z",
          "shell.execute_reply.started": "2022-06-30T12:34:28.588727Z",
          "shell.execute_reply": "2022-06-30T12:34:28.594145Z"
        },
        "trusted": true,
        "id": "7MVY8j-xw62x"
      },
      "execution_count": null,
      "outputs": []
    },
    {
      "cell_type": "code",
      "source": [
        "## Creating model\n",
        "embedding_vector_features=40\n",
        "model=Sequential()\n",
        "model.add(Embedding(voc_size,embedding_vector_features,input_length=sent_length))\n",
        "model.add(LSTM(100))\n",
        "model.add(Dense(1,activation='sigmoid'))\n",
        "model.compile(loss='binary_crossentropy',optimizer='adam',metrics=['accuracy'])\n",
        "print(model.summary())"
      ],
      "metadata": {
        "execution": {
          "iopub.status.busy": "2022-06-30T12:34:28.596327Z",
          "iopub.execute_input": "2022-06-30T12:34:28.596614Z",
          "iopub.status.idle": "2022-06-30T12:34:28.852508Z",
          "shell.execute_reply.started": "2022-06-30T12:34:28.596590Z",
          "shell.execute_reply": "2022-06-30T12:34:28.851283Z"
        },
        "trusted": true,
        "id": "7wjMpPGgw62x"
      },
      "execution_count": null,
      "outputs": []
    },
    {
      "cell_type": "code",
      "source": [
        "len(embedded_docs),y.shape"
      ],
      "metadata": {
        "execution": {
          "iopub.status.busy": "2022-06-30T12:34:28.854126Z",
          "iopub.execute_input": "2022-06-30T12:34:28.854468Z",
          "iopub.status.idle": "2022-06-30T12:34:28.862036Z",
          "shell.execute_reply.started": "2022-06-30T12:34:28.854438Z",
          "shell.execute_reply": "2022-06-30T12:34:28.860809Z"
        },
        "trusted": true,
        "id": "cRyJ62OWw62y"
      },
      "execution_count": null,
      "outputs": []
    },
    {
      "cell_type": "code",
      "source": [
        "import numpy as np\n",
        "X_final=np.array(embedded_docs)\n",
        "y_final=np.array(y)"
      ],
      "metadata": {
        "execution": {
          "iopub.status.busy": "2022-06-30T12:34:28.863478Z",
          "iopub.execute_input": "2022-06-30T12:34:28.863819Z",
          "iopub.status.idle": "2022-06-30T12:34:28.875031Z",
          "shell.execute_reply.started": "2022-06-30T12:34:28.863790Z",
          "shell.execute_reply": "2022-06-30T12:34:28.873908Z"
        },
        "trusted": true,
        "id": "1Aj-Fkinw62y"
      },
      "execution_count": null,
      "outputs": []
    },
    {
      "cell_type": "code",
      "source": [
        "X_final.shape,y_final.shape"
      ],
      "metadata": {
        "execution": {
          "iopub.status.busy": "2022-06-30T12:34:28.878594Z",
          "iopub.execute_input": "2022-06-30T12:34:28.879701Z",
          "iopub.status.idle": "2022-06-30T12:34:28.888020Z",
          "shell.execute_reply.started": "2022-06-30T12:34:28.879662Z",
          "shell.execute_reply": "2022-06-30T12:34:28.886636Z"
        },
        "trusted": true,
        "id": "ko5lULTIw62y"
      },
      "execution_count": null,
      "outputs": []
    },
    {
      "cell_type": "code",
      "source": [
        "from sklearn.model_selection import train_test_split\n",
        "X_train, X_test, y_train, y_test = train_test_split(X_final, y_final, test_size=0.33, random_state=42)"
      ],
      "metadata": {
        "execution": {
          "iopub.status.busy": "2022-06-30T12:34:28.889300Z",
          "iopub.execute_input": "2022-06-30T12:34:28.890370Z",
          "iopub.status.idle": "2022-06-30T12:34:28.904037Z",
          "shell.execute_reply.started": "2022-06-30T12:34:28.890323Z",
          "shell.execute_reply": "2022-06-30T12:34:28.902818Z"
        },
        "trusted": true,
        "id": "XMnRdoLxw62y"
      },
      "execution_count": null,
      "outputs": []
    },
    {
      "cell_type": "code",
      "source": [
        "### Finally Training\n",
        "model.fit(X_train,y_train,validation_data=(X_test,y_test),epochs=10,batch_size=64)"
      ],
      "metadata": {
        "execution": {
          "iopub.status.busy": "2022-06-30T12:34:28.906065Z",
          "iopub.execute_input": "2022-06-30T12:34:28.906915Z",
          "iopub.status.idle": "2022-06-30T12:35:32.232957Z",
          "shell.execute_reply.started": "2022-06-30T12:34:28.906870Z",
          "shell.execute_reply": "2022-06-30T12:35:32.231958Z"
        },
        "trusted": true,
        "id": "lnutYqwyw62y"
      },
      "execution_count": null,
      "outputs": []
    },
    {
      "cell_type": "code",
      "source": [
        "from tensorflow.keras.layers import Dropout\n",
        "## Creating model\n",
        "embedding_vector_features=40\n",
        "model=Sequential()\n",
        "model.add(Embedding(voc_size,embedding_vector_features,input_length=sent_length))\n",
        "model.add(Dropout(0.3))\n",
        "model.add(LSTM(100))\n",
        "model.add(Dropout(0.3))\n",
        "model.add(Dense(1,activation='sigmoid'))\n",
        "model.compile(loss='binary_crossentropy',optimizer='adam',metrics=['accuracy'])"
      ],
      "metadata": {
        "execution": {
          "iopub.status.busy": "2022-06-30T12:35:32.234458Z",
          "iopub.execute_input": "2022-06-30T12:35:32.235475Z",
          "iopub.status.idle": "2022-06-30T12:35:32.482323Z",
          "shell.execute_reply.started": "2022-06-30T12:35:32.235421Z",
          "shell.execute_reply": "2022-06-30T12:35:32.481233Z"
        },
        "trusted": true,
        "id": "-ks7p_0Ow62y"
      },
      "execution_count": null,
      "outputs": []
    },
    {
      "cell_type": "code",
      "source": [
        "predict_x=model.predict(X_test) \n",
        "y_pred=np.argmax(predict_x,axis=1)\n"
      ],
      "metadata": {
        "execution": {
          "iopub.status.busy": "2022-06-30T12:49:26.560289Z",
          "iopub.execute_input": "2022-06-30T12:49:26.560620Z",
          "iopub.status.idle": "2022-06-30T12:49:27.681789Z",
          "shell.execute_reply.started": "2022-06-30T12:49:26.560594Z",
          "shell.execute_reply": "2022-06-30T12:49:27.680698Z"
        },
        "trusted": true,
        "id": "nhuXHgqNw62z"
      },
      "execution_count": null,
      "outputs": []
    },
    {
      "cell_type": "code",
      "source": [
        "from sklearn.metrics import confusion_matrix\n",
        "\n",
        "confusion_matrix(y_test,y_pred)\n"
      ],
      "metadata": {
        "execution": {
          "iopub.status.busy": "2022-06-30T12:49:29.496411Z",
          "iopub.execute_input": "2022-06-30T12:49:29.497378Z",
          "iopub.status.idle": "2022-06-30T12:49:29.507475Z",
          "shell.execute_reply.started": "2022-06-30T12:49:29.497322Z",
          "shell.execute_reply": "2022-06-30T12:49:29.506368Z"
        },
        "trusted": true,
        "id": "uGC-OFoQw62z"
      },
      "execution_count": null,
      "outputs": []
    },
    {
      "cell_type": "code",
      "source": [
        "\n",
        "from sklearn.metrics import accuracy_score\n",
        "accuracy_score(y_test,y_pred)"
      ],
      "metadata": {
        "execution": {
          "iopub.status.busy": "2022-06-30T12:49:45.801463Z",
          "iopub.execute_input": "2022-06-30T12:49:45.801867Z",
          "iopub.status.idle": "2022-06-30T12:49:45.809328Z",
          "shell.execute_reply.started": "2022-06-30T12:49:45.801834Z",
          "shell.execute_reply": "2022-06-30T12:49:45.808492Z"
        },
        "trusted": true,
        "id": "WnIdt2jCw62z"
      },
      "execution_count": null,
      "outputs": []
    },
    {
      "cell_type": "code",
      "source": [
        "from sklearn.metrics import accuracy_score\n",
        "accuracy_score(y_test,y_pred)"
      ],
      "metadata": {
        "execution": {
          "iopub.status.busy": "2022-06-30T12:35:34.079333Z",
          "iopub.status.idle": "2022-06-30T12:35:34.080118Z",
          "shell.execute_reply.started": "2022-06-30T12:35:34.079819Z",
          "shell.execute_reply": "2022-06-30T12:35:34.079847Z"
        },
        "trusted": true,
        "id": "wBJwkUjlw62z"
      },
      "execution_count": null,
      "outputs": []
    }
  ]
}